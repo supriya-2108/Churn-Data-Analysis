{
 "cells": [
  {
   "cell_type": "code",
   "execution_count": 1,
   "id": "5cdb7a00",
   "metadata": {},
   "outputs": [],
   "source": [
    "import pandas as pd\n"
   ]
  },
  {
   "cell_type": "code",
   "execution_count": 2,
   "id": "2bbdbd7f",
   "metadata": {},
   "outputs": [],
   "source": [
    "df=pd.read_excel(\"customer_churn_large_dataset.xlsx\")"
   ]
  },
  {
   "cell_type": "code",
   "execution_count": 3,
   "id": "5322d1d3",
   "metadata": {},
   "outputs": [
    {
     "data": {
      "text/html": [
       "<div>\n",
       "<style scoped>\n",
       "    .dataframe tbody tr th:only-of-type {\n",
       "        vertical-align: middle;\n",
       "    }\n",
       "\n",
       "    .dataframe tbody tr th {\n",
       "        vertical-align: top;\n",
       "    }\n",
       "\n",
       "    .dataframe thead th {\n",
       "        text-align: right;\n",
       "    }\n",
       "</style>\n",
       "<table border=\"1\" class=\"dataframe\">\n",
       "  <thead>\n",
       "    <tr style=\"text-align: right;\">\n",
       "      <th></th>\n",
       "      <th>CustomerID</th>\n",
       "      <th>Name</th>\n",
       "      <th>Age</th>\n",
       "      <th>Gender</th>\n",
       "      <th>Location</th>\n",
       "      <th>Subscription_Length_Months</th>\n",
       "      <th>Monthly_Bill</th>\n",
       "      <th>Total_Usage_GB</th>\n",
       "      <th>Churn</th>\n",
       "    </tr>\n",
       "  </thead>\n",
       "  <tbody>\n",
       "    <tr>\n",
       "      <th>0</th>\n",
       "      <td>1</td>\n",
       "      <td>Customer_1</td>\n",
       "      <td>63</td>\n",
       "      <td>Male</td>\n",
       "      <td>Los Angeles</td>\n",
       "      <td>17</td>\n",
       "      <td>73.36</td>\n",
       "      <td>236</td>\n",
       "      <td>0</td>\n",
       "    </tr>\n",
       "    <tr>\n",
       "      <th>1</th>\n",
       "      <td>2</td>\n",
       "      <td>Customer_2</td>\n",
       "      <td>62</td>\n",
       "      <td>Female</td>\n",
       "      <td>New York</td>\n",
       "      <td>1</td>\n",
       "      <td>48.76</td>\n",
       "      <td>172</td>\n",
       "      <td>0</td>\n",
       "    </tr>\n",
       "    <tr>\n",
       "      <th>2</th>\n",
       "      <td>3</td>\n",
       "      <td>Customer_3</td>\n",
       "      <td>24</td>\n",
       "      <td>Female</td>\n",
       "      <td>Los Angeles</td>\n",
       "      <td>5</td>\n",
       "      <td>85.47</td>\n",
       "      <td>460</td>\n",
       "      <td>0</td>\n",
       "    </tr>\n",
       "    <tr>\n",
       "      <th>3</th>\n",
       "      <td>4</td>\n",
       "      <td>Customer_4</td>\n",
       "      <td>36</td>\n",
       "      <td>Female</td>\n",
       "      <td>Miami</td>\n",
       "      <td>3</td>\n",
       "      <td>97.94</td>\n",
       "      <td>297</td>\n",
       "      <td>1</td>\n",
       "    </tr>\n",
       "    <tr>\n",
       "      <th>4</th>\n",
       "      <td>5</td>\n",
       "      <td>Customer_5</td>\n",
       "      <td>46</td>\n",
       "      <td>Female</td>\n",
       "      <td>Miami</td>\n",
       "      <td>19</td>\n",
       "      <td>58.14</td>\n",
       "      <td>266</td>\n",
       "      <td>0</td>\n",
       "    </tr>\n",
       "  </tbody>\n",
       "</table>\n",
       "</div>"
      ],
      "text/plain": [
       "   CustomerID        Name  Age  Gender     Location  \\\n",
       "0           1  Customer_1   63    Male  Los Angeles   \n",
       "1           2  Customer_2   62  Female     New York   \n",
       "2           3  Customer_3   24  Female  Los Angeles   \n",
       "3           4  Customer_4   36  Female        Miami   \n",
       "4           5  Customer_5   46  Female        Miami   \n",
       "\n",
       "   Subscription_Length_Months  Monthly_Bill  Total_Usage_GB  Churn  \n",
       "0                          17         73.36             236      0  \n",
       "1                           1         48.76             172      0  \n",
       "2                           5         85.47             460      0  \n",
       "3                           3         97.94             297      1  \n",
       "4                          19         58.14             266      0  "
      ]
     },
     "execution_count": 3,
     "metadata": {},
     "output_type": "execute_result"
    }
   ],
   "source": [
    "df.head()\n"
   ]
  },
  {
   "cell_type": "code",
   "execution_count": 4,
   "id": "4a762d44",
   "metadata": {},
   "outputs": [
    {
     "name": "stdout",
     "output_type": "stream",
     "text": [
      "<class 'pandas.core.frame.DataFrame'>\n",
      "RangeIndex: 100000 entries, 0 to 99999\n",
      "Data columns (total 9 columns):\n",
      " #   Column                      Non-Null Count   Dtype  \n",
      "---  ------                      --------------   -----  \n",
      " 0   CustomerID                  100000 non-null  int64  \n",
      " 1   Name                        100000 non-null  object \n",
      " 2   Age                         100000 non-null  int64  \n",
      " 3   Gender                      100000 non-null  object \n",
      " 4   Location                    100000 non-null  object \n",
      " 5   Subscription_Length_Months  100000 non-null  int64  \n",
      " 6   Monthly_Bill                100000 non-null  float64\n",
      " 7   Total_Usage_GB              100000 non-null  int64  \n",
      " 8   Churn                       100000 non-null  int64  \n",
      "dtypes: float64(1), int64(5), object(3)\n",
      "memory usage: 6.9+ MB\n"
     ]
    }
   ],
   "source": [
    "df.info()\n"
   ]
  },
  {
   "cell_type": "code",
   "execution_count": 5,
   "id": "4c02fce6",
   "metadata": {},
   "outputs": [
    {
     "data": {
      "text/plain": [
       "0"
      ]
     },
     "execution_count": 5,
     "metadata": {},
     "output_type": "execute_result"
    }
   ],
   "source": [
    "df.duplicated().sum()"
   ]
  },
  {
   "cell_type": "code",
   "execution_count": 6,
   "id": "4ff3d28a",
   "metadata": {},
   "outputs": [
    {
     "data": {
      "text/plain": [
       "0    50221\n",
       "1    49779\n",
       "Name: Churn, dtype: int64"
      ]
     },
     "execution_count": 6,
     "metadata": {},
     "output_type": "execute_result"
    }
   ],
   "source": [
    "df['Churn'].value_counts()"
   ]
  },
  {
   "cell_type": "code",
   "execution_count": 7,
   "id": "3931583a",
   "metadata": {},
   "outputs": [
    {
     "data": {
      "text/plain": [
       "Houston        20157\n",
       "Los Angeles    20041\n",
       "Miami          20031\n",
       "Chicago        19958\n",
       "New York       19813\n",
       "Name: Location, dtype: int64"
      ]
     },
     "execution_count": 7,
     "metadata": {},
     "output_type": "execute_result"
    }
   ],
   "source": [
    "df['Location'].value_counts()"
   ]
  },
  {
   "cell_type": "code",
   "execution_count": 8,
   "id": "56012fba",
   "metadata": {},
   "outputs": [],
   "source": [
    "df.drop(columns=[\"CustomerID\",\"Name\"],inplace=True)"
   ]
  },
  {
   "cell_type": "code",
   "execution_count": 9,
   "id": "3f2c5db3",
   "metadata": {},
   "outputs": [
    {
     "data": {
      "text/html": [
       "<div>\n",
       "<style scoped>\n",
       "    .dataframe tbody tr th:only-of-type {\n",
       "        vertical-align: middle;\n",
       "    }\n",
       "\n",
       "    .dataframe tbody tr th {\n",
       "        vertical-align: top;\n",
       "    }\n",
       "\n",
       "    .dataframe thead th {\n",
       "        text-align: right;\n",
       "    }\n",
       "</style>\n",
       "<table border=\"1\" class=\"dataframe\">\n",
       "  <thead>\n",
       "    <tr style=\"text-align: right;\">\n",
       "      <th></th>\n",
       "      <th>Age</th>\n",
       "      <th>Gender</th>\n",
       "      <th>Location</th>\n",
       "      <th>Subscription_Length_Months</th>\n",
       "      <th>Monthly_Bill</th>\n",
       "      <th>Total_Usage_GB</th>\n",
       "      <th>Churn</th>\n",
       "    </tr>\n",
       "  </thead>\n",
       "  <tbody>\n",
       "    <tr>\n",
       "      <th>0</th>\n",
       "      <td>63</td>\n",
       "      <td>Male</td>\n",
       "      <td>Los Angeles</td>\n",
       "      <td>17</td>\n",
       "      <td>73.36</td>\n",
       "      <td>236</td>\n",
       "      <td>0</td>\n",
       "    </tr>\n",
       "    <tr>\n",
       "      <th>1</th>\n",
       "      <td>62</td>\n",
       "      <td>Female</td>\n",
       "      <td>New York</td>\n",
       "      <td>1</td>\n",
       "      <td>48.76</td>\n",
       "      <td>172</td>\n",
       "      <td>0</td>\n",
       "    </tr>\n",
       "    <tr>\n",
       "      <th>2</th>\n",
       "      <td>24</td>\n",
       "      <td>Female</td>\n",
       "      <td>Los Angeles</td>\n",
       "      <td>5</td>\n",
       "      <td>85.47</td>\n",
       "      <td>460</td>\n",
       "      <td>0</td>\n",
       "    </tr>\n",
       "    <tr>\n",
       "      <th>3</th>\n",
       "      <td>36</td>\n",
       "      <td>Female</td>\n",
       "      <td>Miami</td>\n",
       "      <td>3</td>\n",
       "      <td>97.94</td>\n",
       "      <td>297</td>\n",
       "      <td>1</td>\n",
       "    </tr>\n",
       "    <tr>\n",
       "      <th>4</th>\n",
       "      <td>46</td>\n",
       "      <td>Female</td>\n",
       "      <td>Miami</td>\n",
       "      <td>19</td>\n",
       "      <td>58.14</td>\n",
       "      <td>266</td>\n",
       "      <td>0</td>\n",
       "    </tr>\n",
       "  </tbody>\n",
       "</table>\n",
       "</div>"
      ],
      "text/plain": [
       "   Age  Gender     Location  Subscription_Length_Months  Monthly_Bill  \\\n",
       "0   63    Male  Los Angeles                          17         73.36   \n",
       "1   62  Female     New York                           1         48.76   \n",
       "2   24  Female  Los Angeles                           5         85.47   \n",
       "3   36  Female        Miami                           3         97.94   \n",
       "4   46  Female        Miami                          19         58.14   \n",
       "\n",
       "   Total_Usage_GB  Churn  \n",
       "0             236      0  \n",
       "1             172      0  \n",
       "2             460      0  \n",
       "3             297      1  \n",
       "4             266      0  "
      ]
     },
     "execution_count": 9,
     "metadata": {},
     "output_type": "execute_result"
    }
   ],
   "source": [
    "df.head()"
   ]
  },
  {
   "cell_type": "code",
   "execution_count": 10,
   "id": "274e4031",
   "metadata": {},
   "outputs": [
    {
     "data": {
      "text/plain": [
       "33    2046\n",
       "50    1996\n",
       "38    1970\n",
       "63    1942\n",
       "57    1942\n",
       "19    1941\n",
       "41    1939\n",
       "42    1930\n",
       "51    1929\n",
       "59    1928\n",
       "27    1924\n",
       "66    1922\n",
       "70    1921\n",
       "44    1916\n",
       "69    1912\n",
       "61    1909\n",
       "60    1904\n",
       "31    1901\n",
       "55    1900\n",
       "21    1897\n",
       "54    1896\n",
       "53    1895\n",
       "48    1895\n",
       "39    1891\n",
       "23    1887\n",
       "20    1886\n",
       "29    1885\n",
       "28    1881\n",
       "24    1876\n",
       "58    1876\n",
       "40    1875\n",
       "30    1875\n",
       "26    1874\n",
       "56    1872\n",
       "25    1871\n",
       "37    1870\n",
       "62    1867\n",
       "46    1865\n",
       "68    1863\n",
       "43    1863\n",
       "36    1859\n",
       "49    1854\n",
       "64    1848\n",
       "47    1847\n",
       "35    1845\n",
       "18    1839\n",
       "65    1833\n",
       "45    1827\n",
       "52    1824\n",
       "32    1810\n",
       "67    1798\n",
       "34    1797\n",
       "22    1787\n",
       "Name: Age, dtype: int64"
      ]
     },
     "execution_count": 10,
     "metadata": {},
     "output_type": "execute_result"
    }
   ],
   "source": [
    "df['Age'].value_counts()"
   ]
  },
  {
   "cell_type": "code",
   "execution_count": 11,
   "id": "d70c8f55",
   "metadata": {},
   "outputs": [],
   "source": [
    "df=pd.get_dummies(df,columns=[\"Gender\",\"Location\"],drop_first=True)"
   ]
  },
  {
   "cell_type": "code",
   "execution_count": 12,
   "id": "68a404df",
   "metadata": {},
   "outputs": [
    {
     "data": {
      "text/html": [
       "<div>\n",
       "<style scoped>\n",
       "    .dataframe tbody tr th:only-of-type {\n",
       "        vertical-align: middle;\n",
       "    }\n",
       "\n",
       "    .dataframe tbody tr th {\n",
       "        vertical-align: top;\n",
       "    }\n",
       "\n",
       "    .dataframe thead th {\n",
       "        text-align: right;\n",
       "    }\n",
       "</style>\n",
       "<table border=\"1\" class=\"dataframe\">\n",
       "  <thead>\n",
       "    <tr style=\"text-align: right;\">\n",
       "      <th></th>\n",
       "      <th>Age</th>\n",
       "      <th>Subscription_Length_Months</th>\n",
       "      <th>Monthly_Bill</th>\n",
       "      <th>Total_Usage_GB</th>\n",
       "      <th>Churn</th>\n",
       "      <th>Gender_Male</th>\n",
       "      <th>Location_Houston</th>\n",
       "      <th>Location_Los Angeles</th>\n",
       "      <th>Location_Miami</th>\n",
       "      <th>Location_New York</th>\n",
       "    </tr>\n",
       "  </thead>\n",
       "  <tbody>\n",
       "    <tr>\n",
       "      <th>0</th>\n",
       "      <td>63</td>\n",
       "      <td>17</td>\n",
       "      <td>73.36</td>\n",
       "      <td>236</td>\n",
       "      <td>0</td>\n",
       "      <td>1</td>\n",
       "      <td>0</td>\n",
       "      <td>1</td>\n",
       "      <td>0</td>\n",
       "      <td>0</td>\n",
       "    </tr>\n",
       "    <tr>\n",
       "      <th>1</th>\n",
       "      <td>62</td>\n",
       "      <td>1</td>\n",
       "      <td>48.76</td>\n",
       "      <td>172</td>\n",
       "      <td>0</td>\n",
       "      <td>0</td>\n",
       "      <td>0</td>\n",
       "      <td>0</td>\n",
       "      <td>0</td>\n",
       "      <td>1</td>\n",
       "    </tr>\n",
       "    <tr>\n",
       "      <th>2</th>\n",
       "      <td>24</td>\n",
       "      <td>5</td>\n",
       "      <td>85.47</td>\n",
       "      <td>460</td>\n",
       "      <td>0</td>\n",
       "      <td>0</td>\n",
       "      <td>0</td>\n",
       "      <td>1</td>\n",
       "      <td>0</td>\n",
       "      <td>0</td>\n",
       "    </tr>\n",
       "    <tr>\n",
       "      <th>3</th>\n",
       "      <td>36</td>\n",
       "      <td>3</td>\n",
       "      <td>97.94</td>\n",
       "      <td>297</td>\n",
       "      <td>1</td>\n",
       "      <td>0</td>\n",
       "      <td>0</td>\n",
       "      <td>0</td>\n",
       "      <td>1</td>\n",
       "      <td>0</td>\n",
       "    </tr>\n",
       "    <tr>\n",
       "      <th>4</th>\n",
       "      <td>46</td>\n",
       "      <td>19</td>\n",
       "      <td>58.14</td>\n",
       "      <td>266</td>\n",
       "      <td>0</td>\n",
       "      <td>0</td>\n",
       "      <td>0</td>\n",
       "      <td>0</td>\n",
       "      <td>1</td>\n",
       "      <td>0</td>\n",
       "    </tr>\n",
       "    <tr>\n",
       "      <th>...</th>\n",
       "      <td>...</td>\n",
       "      <td>...</td>\n",
       "      <td>...</td>\n",
       "      <td>...</td>\n",
       "      <td>...</td>\n",
       "      <td>...</td>\n",
       "      <td>...</td>\n",
       "      <td>...</td>\n",
       "      <td>...</td>\n",
       "      <td>...</td>\n",
       "    </tr>\n",
       "    <tr>\n",
       "      <th>99995</th>\n",
       "      <td>33</td>\n",
       "      <td>23</td>\n",
       "      <td>55.13</td>\n",
       "      <td>226</td>\n",
       "      <td>1</td>\n",
       "      <td>1</td>\n",
       "      <td>1</td>\n",
       "      <td>0</td>\n",
       "      <td>0</td>\n",
       "      <td>0</td>\n",
       "    </tr>\n",
       "    <tr>\n",
       "      <th>99996</th>\n",
       "      <td>62</td>\n",
       "      <td>19</td>\n",
       "      <td>61.65</td>\n",
       "      <td>351</td>\n",
       "      <td>0</td>\n",
       "      <td>0</td>\n",
       "      <td>0</td>\n",
       "      <td>0</td>\n",
       "      <td>0</td>\n",
       "      <td>1</td>\n",
       "    </tr>\n",
       "    <tr>\n",
       "      <th>99997</th>\n",
       "      <td>64</td>\n",
       "      <td>17</td>\n",
       "      <td>96.11</td>\n",
       "      <td>251</td>\n",
       "      <td>1</td>\n",
       "      <td>1</td>\n",
       "      <td>0</td>\n",
       "      <td>0</td>\n",
       "      <td>0</td>\n",
       "      <td>0</td>\n",
       "    </tr>\n",
       "    <tr>\n",
       "      <th>99998</th>\n",
       "      <td>51</td>\n",
       "      <td>20</td>\n",
       "      <td>49.25</td>\n",
       "      <td>434</td>\n",
       "      <td>1</td>\n",
       "      <td>0</td>\n",
       "      <td>0</td>\n",
       "      <td>0</td>\n",
       "      <td>0</td>\n",
       "      <td>1</td>\n",
       "    </tr>\n",
       "    <tr>\n",
       "      <th>99999</th>\n",
       "      <td>27</td>\n",
       "      <td>19</td>\n",
       "      <td>76.57</td>\n",
       "      <td>173</td>\n",
       "      <td>1</td>\n",
       "      <td>0</td>\n",
       "      <td>0</td>\n",
       "      <td>1</td>\n",
       "      <td>0</td>\n",
       "      <td>0</td>\n",
       "    </tr>\n",
       "  </tbody>\n",
       "</table>\n",
       "<p>100000 rows × 10 columns</p>\n",
       "</div>"
      ],
      "text/plain": [
       "       Age  Subscription_Length_Months  Monthly_Bill  Total_Usage_GB  Churn  \\\n",
       "0       63                          17         73.36             236      0   \n",
       "1       62                           1         48.76             172      0   \n",
       "2       24                           5         85.47             460      0   \n",
       "3       36                           3         97.94             297      1   \n",
       "4       46                          19         58.14             266      0   \n",
       "...    ...                         ...           ...             ...    ...   \n",
       "99995   33                          23         55.13             226      1   \n",
       "99996   62                          19         61.65             351      0   \n",
       "99997   64                          17         96.11             251      1   \n",
       "99998   51                          20         49.25             434      1   \n",
       "99999   27                          19         76.57             173      1   \n",
       "\n",
       "       Gender_Male  Location_Houston  Location_Los Angeles  Location_Miami  \\\n",
       "0                1                 0                     1               0   \n",
       "1                0                 0                     0               0   \n",
       "2                0                 0                     1               0   \n",
       "3                0                 0                     0               1   \n",
       "4                0                 0                     0               1   \n",
       "...            ...               ...                   ...             ...   \n",
       "99995            1                 1                     0               0   \n",
       "99996            0                 0                     0               0   \n",
       "99997            1                 0                     0               0   \n",
       "99998            0                 0                     0               0   \n",
       "99999            0                 0                     1               0   \n",
       "\n",
       "       Location_New York  \n",
       "0                      0  \n",
       "1                      1  \n",
       "2                      0  \n",
       "3                      0  \n",
       "4                      0  \n",
       "...                  ...  \n",
       "99995                  0  \n",
       "99996                  1  \n",
       "99997                  0  \n",
       "99998                  1  \n",
       "99999                  0  \n",
       "\n",
       "[100000 rows x 10 columns]"
      ]
     },
     "execution_count": 12,
     "metadata": {},
     "output_type": "execute_result"
    }
   ],
   "source": [
    "df\n"
   ]
  },
  {
   "cell_type": "code",
   "execution_count": 13,
   "id": "5975d6d1",
   "metadata": {},
   "outputs": [
    {
     "data": {
      "text/plain": [
       "(100000, 10)"
      ]
     },
     "execution_count": 13,
     "metadata": {},
     "output_type": "execute_result"
    }
   ],
   "source": [
    "df.shape\n"
   ]
  },
  {
   "cell_type": "code",
   "execution_count": 14,
   "id": "44b47d15",
   "metadata": {},
   "outputs": [],
   "source": [
    "X=df.drop(columns=[\"Churn\"])\n",
    "Y=df['Churn']\n",
    "from sklearn.model_selection import train_test_split\n",
    "X_train,X_test,Y_train,Y_test=train_test_split(X,Y,test_size=0.2,random_state=1)"
   ]
  },
  {
   "cell_type": "code",
   "execution_count": 15,
   "id": "9a4dbae9",
   "metadata": {},
   "outputs": [
    {
     "data": {
      "text/plain": [
       "(80000, 9)"
      ]
     },
     "execution_count": 15,
     "metadata": {},
     "output_type": "execute_result"
    }
   ],
   "source": [
    "X_train.shape"
   ]
  },
  {
   "cell_type": "code",
   "execution_count": 16,
   "id": "c996249a",
   "metadata": {},
   "outputs": [],
   "source": [
    "from sklearn.preprocessing import StandardScaler\n",
    "scaler=StandardScaler()"
   ]
  },
  {
   "cell_type": "code",
   "execution_count": 17,
   "id": "32b82bab",
   "metadata": {},
   "outputs": [],
   "source": [
    "import tensorflow"
   ]
  },
  {
   "cell_type": "code",
   "execution_count": 18,
   "id": "6162e38c",
   "metadata": {},
   "outputs": [],
   "source": [
    "from tensorflow import keras\n",
    "from tensorflow.keras import Sequential\n",
    "from tensorflow.keras.layers import Dense"
   ]
  },
  {
   "cell_type": "code",
   "execution_count": 19,
   "id": "f89c5e30",
   "metadata": {},
   "outputs": [],
   "source": [
    "model=Sequential()\n",
    "model.add(Dense(3,activation=\"sigmoid\",input_dim=9))\n",
    "model.add(Dense(1,activation=\"sigmoid\"))"
   ]
  },
  {
   "cell_type": "code",
   "execution_count": 20,
   "id": "490b4bb6",
   "metadata": {},
   "outputs": [
    {
     "name": "stdout",
     "output_type": "stream",
     "text": [
      "Model: \"sequential\"\n",
      "_________________________________________________________________\n",
      " Layer (type)                Output Shape              Param #   \n",
      "=================================================================\n",
      " dense (Dense)               (None, 3)                 30        \n",
      "                                                                 \n",
      " dense_1 (Dense)             (None, 1)                 4         \n",
      "                                                                 \n",
      "=================================================================\n",
      "Total params: 34 (136.00 Byte)\n",
      "Trainable params: 34 (136.00 Byte)\n",
      "Non-trainable params: 0 (0.00 Byte)\n",
      "_________________________________________________________________\n"
     ]
    }
   ],
   "source": [
    "model.summary()"
   ]
  },
  {
   "cell_type": "markdown",
   "id": "f7327eec",
   "metadata": {},
   "source": []
  },
  {
   "cell_type": "code",
   "execution_count": 21,
   "id": "3ec8a637",
   "metadata": {},
   "outputs": [],
   "source": [
    "model.compile(loss=\"binary_crossentropy\",optimizer=\"Adam\",metrics=['accuracy'])"
   ]
  },
  {
   "cell_type": "code",
   "execution_count": 22,
   "id": "37c85fac",
   "metadata": {},
   "outputs": [
    {
     "name": "stdout",
     "output_type": "stream",
     "text": [
      "Epoch 1/100\n",
      "2000/2000 [==============================] - 5s 2ms/step - loss: 0.7005 - accuracy: 0.4988 - val_loss: 0.6952 - val_accuracy: 0.5014\n",
      "Epoch 2/100\n",
      "2000/2000 [==============================] - 4s 2ms/step - loss: 0.6948 - accuracy: 0.4993 - val_loss: 0.6939 - val_accuracy: 0.4933\n",
      "Epoch 3/100\n",
      "2000/2000 [==============================] - 4s 2ms/step - loss: 0.6939 - accuracy: 0.4977 - val_loss: 0.6934 - val_accuracy: 0.5066\n",
      "Epoch 4/100\n",
      "2000/2000 [==============================] - 3s 2ms/step - loss: 0.6936 - accuracy: 0.4958 - val_loss: 0.6939 - val_accuracy: 0.5046\n",
      "Epoch 5/100\n",
      "2000/2000 [==============================] - 4s 2ms/step - loss: 0.6934 - accuracy: 0.5002 - val_loss: 0.6936 - val_accuracy: 0.5035\n",
      "Epoch 6/100\n",
      "2000/2000 [==============================] - 4s 2ms/step - loss: 0.6933 - accuracy: 0.5001 - val_loss: 0.6939 - val_accuracy: 0.5067\n",
      "Epoch 7/100\n",
      "2000/2000 [==============================] - 3s 2ms/step - loss: 0.6934 - accuracy: 0.4987 - val_loss: 0.6931 - val_accuracy: 0.5073\n",
      "Epoch 8/100\n",
      "2000/2000 [==============================] - 3s 2ms/step - loss: 0.6934 - accuracy: 0.5013 - val_loss: 0.6931 - val_accuracy: 0.5029\n",
      "Epoch 9/100\n",
      "2000/2000 [==============================] - 4s 2ms/step - loss: 0.6935 - accuracy: 0.4991 - val_loss: 0.6940 - val_accuracy: 0.4959\n",
      "Epoch 10/100\n",
      "2000/2000 [==============================] - 4s 2ms/step - loss: 0.6933 - accuracy: 0.4978 - val_loss: 0.6938 - val_accuracy: 0.4969\n",
      "Epoch 11/100\n",
      "2000/2000 [==============================] - 3s 2ms/step - loss: 0.6934 - accuracy: 0.4994 - val_loss: 0.6932 - val_accuracy: 0.5078\n",
      "Epoch 12/100\n",
      "2000/2000 [==============================] - 3s 2ms/step - loss: 0.6934 - accuracy: 0.4967 - val_loss: 0.6933 - val_accuracy: 0.5034\n",
      "Epoch 13/100\n",
      "2000/2000 [==============================] - 3s 2ms/step - loss: 0.6933 - accuracy: 0.4974 - val_loss: 0.6931 - val_accuracy: 0.5078\n",
      "Epoch 14/100\n",
      "2000/2000 [==============================] - 4s 2ms/step - loss: 0.6932 - accuracy: 0.5002 - val_loss: 0.6932 - val_accuracy: 0.5073\n",
      "Epoch 15/100\n",
      "2000/2000 [==============================] - 4s 2ms/step - loss: 0.6932 - accuracy: 0.5060 - val_loss: 0.6938 - val_accuracy: 0.4934\n",
      "Epoch 16/100\n",
      "2000/2000 [==============================] - 3s 2ms/step - loss: 0.6934 - accuracy: 0.4995 - val_loss: 0.6934 - val_accuracy: 0.5063\n",
      "Epoch 17/100\n",
      "2000/2000 [==============================] - 3s 2ms/step - loss: 0.6934 - accuracy: 0.5007 - val_loss: 0.6932 - val_accuracy: 0.5045\n",
      "Epoch 18/100\n",
      "2000/2000 [==============================] - 3s 2ms/step - loss: 0.6934 - accuracy: 0.4983 - val_loss: 0.6934 - val_accuracy: 0.5056\n",
      "Epoch 19/100\n",
      "2000/2000 [==============================] - 4s 2ms/step - loss: 0.6933 - accuracy: 0.5008 - val_loss: 0.6931 - val_accuracy: 0.5067\n",
      "Epoch 20/100\n",
      "2000/2000 [==============================] - 3s 2ms/step - loss: 0.6933 - accuracy: 0.4986 - val_loss: 0.6932 - val_accuracy: 0.4948\n",
      "Epoch 21/100\n",
      "2000/2000 [==============================] - 3s 2ms/step - loss: 0.6933 - accuracy: 0.4992 - val_loss: 0.6931 - val_accuracy: 0.5064\n",
      "Epoch 22/100\n",
      "2000/2000 [==============================] - 3s 2ms/step - loss: 0.6933 - accuracy: 0.4995 - val_loss: 0.6933 - val_accuracy: 0.4934\n",
      "Epoch 23/100\n",
      "2000/2000 [==============================] - 5s 3ms/step - loss: 0.6933 - accuracy: 0.4992 - val_loss: 0.6932 - val_accuracy: 0.4966\n",
      "Epoch 24/100\n",
      "2000/2000 [==============================] - 4s 2ms/step - loss: 0.6933 - accuracy: 0.5006 - val_loss: 0.6932 - val_accuracy: 0.5066\n",
      "Epoch 25/100\n",
      "2000/2000 [==============================] - 4s 2ms/step - loss: 0.6932 - accuracy: 0.5019 - val_loss: 0.6933 - val_accuracy: 0.5061\n",
      "Epoch 26/100\n",
      "2000/2000 [==============================] - 4s 2ms/step - loss: 0.6933 - accuracy: 0.5005 - val_loss: 0.6934 - val_accuracy: 0.5067\n",
      "Epoch 27/100\n",
      "2000/2000 [==============================] - 5s 2ms/step - loss: 0.6933 - accuracy: 0.5008 - val_loss: 0.6932 - val_accuracy: 0.5056\n",
      "Epoch 28/100\n",
      "2000/2000 [==============================] - 4s 2ms/step - loss: 0.6932 - accuracy: 0.5008 - val_loss: 0.6933 - val_accuracy: 0.5046\n",
      "Epoch 29/100\n",
      "2000/2000 [==============================] - 3s 2ms/step - loss: 0.6932 - accuracy: 0.5015 - val_loss: 0.6932 - val_accuracy: 0.5058\n",
      "Epoch 30/100\n",
      "2000/2000 [==============================] - 3s 2ms/step - loss: 0.6931 - accuracy: 0.5027 - val_loss: 0.6933 - val_accuracy: 0.5056\n",
      "Epoch 31/100\n",
      "2000/2000 [==============================] - 4s 2ms/step - loss: 0.6932 - accuracy: 0.5003 - val_loss: 0.6931 - val_accuracy: 0.5064\n",
      "Epoch 32/100\n",
      "2000/2000 [==============================] - 4s 2ms/step - loss: 0.6931 - accuracy: 0.5027 - val_loss: 0.6931 - val_accuracy: 0.5066\n",
      "Epoch 33/100\n",
      "2000/2000 [==============================] - 3s 2ms/step - loss: 0.6932 - accuracy: 0.5003 - val_loss: 0.6932 - val_accuracy: 0.5071\n",
      "Epoch 34/100\n",
      "2000/2000 [==============================] - 3s 2ms/step - loss: 0.6932 - accuracy: 0.5014 - val_loss: 0.6932 - val_accuracy: 0.5064\n",
      "Epoch 35/100\n",
      "2000/2000 [==============================] - 3s 2ms/step - loss: 0.6932 - accuracy: 0.5007 - val_loss: 0.6932 - val_accuracy: 0.5063\n",
      "Epoch 36/100\n",
      "2000/2000 [==============================] - 5s 2ms/step - loss: 0.6931 - accuracy: 0.4982 - val_loss: 0.6932 - val_accuracy: 0.5056\n",
      "Epoch 37/100\n",
      "2000/2000 [==============================] - 5s 3ms/step - loss: 0.6932 - accuracy: 0.5021 - val_loss: 0.6931 - val_accuracy: 0.5064\n",
      "Epoch 38/100\n",
      "2000/2000 [==============================] - 5s 3ms/step - loss: 0.6932 - accuracy: 0.5018 - val_loss: 0.6931 - val_accuracy: 0.5062\n",
      "Epoch 39/100\n",
      "2000/2000 [==============================] - 4s 2ms/step - loss: 0.6932 - accuracy: 0.5015 - val_loss: 0.6932 - val_accuracy: 0.5065\n",
      "Epoch 40/100\n",
      "2000/2000 [==============================] - 4s 2ms/step - loss: 0.6932 - accuracy: 0.5004 - val_loss: 0.6931 - val_accuracy: 0.5066\n",
      "Epoch 41/100\n",
      "2000/2000 [==============================] - 4s 2ms/step - loss: 0.6931 - accuracy: 0.5019 - val_loss: 0.6931 - val_accuracy: 0.5071\n",
      "Epoch 42/100\n",
      "2000/2000 [==============================] - 3s 2ms/step - loss: 0.6932 - accuracy: 0.4995 - val_loss: 0.6931 - val_accuracy: 0.5070\n",
      "Epoch 43/100\n",
      "2000/2000 [==============================] - 4s 2ms/step - loss: 0.6932 - accuracy: 0.5019 - val_loss: 0.6931 - val_accuracy: 0.5056\n",
      "Epoch 44/100\n",
      "2000/2000 [==============================] - 4s 2ms/step - loss: 0.6932 - accuracy: 0.5011 - val_loss: 0.6931 - val_accuracy: 0.5063\n",
      "Epoch 45/100\n",
      "2000/2000 [==============================] - 3s 2ms/step - loss: 0.6932 - accuracy: 0.5012 - val_loss: 0.6932 - val_accuracy: 0.5047\n",
      "Epoch 46/100\n",
      "2000/2000 [==============================] - 3s 2ms/step - loss: 0.6932 - accuracy: 0.5009 - val_loss: 0.6931 - val_accuracy: 0.5059\n",
      "Epoch 47/100\n",
      "2000/2000 [==============================] - 3s 2ms/step - loss: 0.6931 - accuracy: 0.5026 - val_loss: 0.6931 - val_accuracy: 0.5068\n",
      "Epoch 48/100\n",
      "2000/2000 [==============================] - 3s 2ms/step - loss: 0.6932 - accuracy: 0.5009 - val_loss: 0.6932 - val_accuracy: 0.5055\n",
      "Epoch 49/100\n",
      "2000/2000 [==============================] - 3s 2ms/step - loss: 0.6931 - accuracy: 0.5017 - val_loss: 0.6931 - val_accuracy: 0.5065\n",
      "Epoch 50/100\n",
      "2000/2000 [==============================] - 3s 2ms/step - loss: 0.6932 - accuracy: 0.5017 - val_loss: 0.6931 - val_accuracy: 0.5058\n",
      "Epoch 51/100\n",
      "2000/2000 [==============================] - 3s 2ms/step - loss: 0.6931 - accuracy: 0.5052 - val_loss: 0.6934 - val_accuracy: 0.4929\n",
      "Epoch 52/100\n",
      "2000/2000 [==============================] - 4s 2ms/step - loss: 0.6931 - accuracy: 0.5030 - val_loss: 0.6931 - val_accuracy: 0.5068\n",
      "Epoch 53/100\n",
      "2000/2000 [==============================] - 4s 2ms/step - loss: 0.6932 - accuracy: 0.4997 - val_loss: 0.6931 - val_accuracy: 0.5077\n",
      "Epoch 54/100\n",
      "2000/2000 [==============================] - 3s 2ms/step - loss: 0.6931 - accuracy: 0.5023 - val_loss: 0.6931 - val_accuracy: 0.5061\n",
      "Epoch 55/100\n",
      "2000/2000 [==============================] - 3s 2ms/step - loss: 0.6931 - accuracy: 0.5016 - val_loss: 0.6931 - val_accuracy: 0.5063\n",
      "Epoch 56/100\n",
      "2000/2000 [==============================] - 3s 2ms/step - loss: 0.6931 - accuracy: 0.4976 - val_loss: 0.6931 - val_accuracy: 0.5068\n",
      "Epoch 57/100\n",
      "2000/2000 [==============================] - 4s 2ms/step - loss: 0.6932 - accuracy: 0.4997 - val_loss: 0.6931 - val_accuracy: 0.5067\n",
      "Epoch 58/100\n",
      "2000/2000 [==============================] - 4s 2ms/step - loss: 0.6931 - accuracy: 0.5037 - val_loss: 0.6932 - val_accuracy: 0.5066\n",
      "Epoch 59/100\n",
      "2000/2000 [==============================] - 4s 2ms/step - loss: 0.6931 - accuracy: 0.5010 - val_loss: 0.6931 - val_accuracy: 0.5069\n",
      "Epoch 60/100\n",
      "2000/2000 [==============================] - 4s 2ms/step - loss: 0.6931 - accuracy: 0.5015 - val_loss: 0.6931 - val_accuracy: 0.5054\n",
      "Epoch 61/100\n",
      "2000/2000 [==============================] - 4s 2ms/step - loss: 0.6931 - accuracy: 0.5030 - val_loss: 0.6933 - val_accuracy: 0.4929\n",
      "Epoch 62/100\n",
      "2000/2000 [==============================] - 4s 2ms/step - loss: 0.6931 - accuracy: 0.5035 - val_loss: 0.6933 - val_accuracy: 0.5058\n",
      "Epoch 63/100\n",
      "2000/2000 [==============================] - 5s 3ms/step - loss: 0.6931 - accuracy: 0.5004 - val_loss: 0.6932 - val_accuracy: 0.5063\n",
      "Epoch 64/100\n",
      "2000/2000 [==============================] - 5s 2ms/step - loss: 0.6931 - accuracy: 0.5036 - val_loss: 0.6934 - val_accuracy: 0.4933\n",
      "Epoch 65/100\n",
      "2000/2000 [==============================] - 5s 3ms/step - loss: 0.6931 - accuracy: 0.5001 - val_loss: 0.6933 - val_accuracy: 0.5067\n",
      "Epoch 66/100\n",
      "2000/2000 [==============================] - 3s 2ms/step - loss: 0.6932 - accuracy: 0.5025 - val_loss: 0.6931 - val_accuracy: 0.5070\n",
      "Epoch 67/100\n",
      "2000/2000 [==============================] - 3s 2ms/step - loss: 0.6931 - accuracy: 0.5003 - val_loss: 0.6932 - val_accuracy: 0.5074\n",
      "Epoch 68/100\n",
      "2000/2000 [==============================] - 6s 3ms/step - loss: 0.6931 - accuracy: 0.5006 - val_loss: 0.6932 - val_accuracy: 0.5073\n",
      "Epoch 69/100\n",
      "2000/2000 [==============================] - 7s 3ms/step - loss: 0.6931 - accuracy: 0.5018 - val_loss: 0.6933 - val_accuracy: 0.5055\n",
      "Epoch 70/100\n",
      "2000/2000 [==============================] - 5s 2ms/step - loss: 0.6931 - accuracy: 0.5006 - val_loss: 0.6933 - val_accuracy: 0.5065\n",
      "Epoch 71/100\n",
      "2000/2000 [==============================] - 5s 2ms/step - loss: 0.6931 - accuracy: 0.5022 - val_loss: 0.6934 - val_accuracy: 0.4927\n",
      "Epoch 72/100\n",
      "2000/2000 [==============================] - 5s 3ms/step - loss: 0.6931 - accuracy: 0.5005 - val_loss: 0.6933 - val_accuracy: 0.5055\n",
      "Epoch 73/100\n",
      "2000/2000 [==============================] - 5s 3ms/step - loss: 0.6931 - accuracy: 0.5026 - val_loss: 0.6931 - val_accuracy: 0.5056\n",
      "Epoch 74/100\n",
      "2000/2000 [==============================] - 4s 2ms/step - loss: 0.6931 - accuracy: 0.5010 - val_loss: 0.6932 - val_accuracy: 0.5075\n",
      "Epoch 75/100\n",
      "2000/2000 [==============================] - 4s 2ms/step - loss: 0.6931 - accuracy: 0.5000 - val_loss: 0.6932 - val_accuracy: 0.5069\n",
      "Epoch 76/100\n",
      "2000/2000 [==============================] - 3s 2ms/step - loss: 0.6931 - accuracy: 0.5036 - val_loss: 0.6933 - val_accuracy: 0.5059\n",
      "Epoch 77/100\n",
      "2000/2000 [==============================] - 4s 2ms/step - loss: 0.6931 - accuracy: 0.5021 - val_loss: 0.6933 - val_accuracy: 0.5060\n",
      "Epoch 78/100\n",
      "2000/2000 [==============================] - 3s 2ms/step - loss: 0.6931 - accuracy: 0.4981 - val_loss: 0.6933 - val_accuracy: 0.5061\n",
      "Epoch 79/100\n",
      "2000/2000 [==============================] - 4s 2ms/step - loss: 0.6931 - accuracy: 0.4986 - val_loss: 0.6932 - val_accuracy: 0.5058\n",
      "Epoch 80/100\n",
      "2000/2000 [==============================] - 4s 2ms/step - loss: 0.6931 - accuracy: 0.5027 - val_loss: 0.6932 - val_accuracy: 0.4936\n",
      "Epoch 81/100\n",
      "2000/2000 [==============================] - 4s 2ms/step - loss: 0.6931 - accuracy: 0.4999 - val_loss: 0.6932 - val_accuracy: 0.5064\n",
      "Epoch 82/100\n",
      "2000/2000 [==============================] - 4s 2ms/step - loss: 0.6931 - accuracy: 0.5029 - val_loss: 0.6931 - val_accuracy: 0.5078\n",
      "Epoch 83/100\n",
      "2000/2000 [==============================] - 4s 2ms/step - loss: 0.6931 - accuracy: 0.5040 - val_loss: 0.6934 - val_accuracy: 0.4935\n",
      "Epoch 84/100\n",
      "2000/2000 [==============================] - 4s 2ms/step - loss: 0.6931 - accuracy: 0.5026 - val_loss: 0.6933 - val_accuracy: 0.5057\n",
      "Epoch 85/100\n",
      "2000/2000 [==============================] - 3s 2ms/step - loss: 0.6931 - accuracy: 0.5009 - val_loss: 0.6933 - val_accuracy: 0.5060\n",
      "Epoch 86/100\n",
      "2000/2000 [==============================] - 3s 2ms/step - loss: 0.6931 - accuracy: 0.5000 - val_loss: 0.6933 - val_accuracy: 0.4938\n",
      "Epoch 87/100\n",
      "2000/2000 [==============================] - 3s 2ms/step - loss: 0.6930 - accuracy: 0.5019 - val_loss: 0.6935 - val_accuracy: 0.4933\n",
      "Epoch 88/100\n",
      "2000/2000 [==============================] - 4s 2ms/step - loss: 0.6931 - accuracy: 0.4985 - val_loss: 0.6934 - val_accuracy: 0.4931\n",
      "Epoch 89/100\n",
      "2000/2000 [==============================] - 3s 2ms/step - loss: 0.6931 - accuracy: 0.4993 - val_loss: 0.6934 - val_accuracy: 0.4933\n",
      "Epoch 90/100\n",
      "2000/2000 [==============================] - 3s 1ms/step - loss: 0.6931 - accuracy: 0.5010 - val_loss: 0.6933 - val_accuracy: 0.5057\n",
      "Epoch 91/100\n",
      "2000/2000 [==============================] - 3s 1ms/step - loss: 0.6930 - accuracy: 0.5031 - val_loss: 0.6933 - val_accuracy: 0.4936\n",
      "Epoch 92/100\n",
      "2000/2000 [==============================] - 3s 2ms/step - loss: 0.6930 - accuracy: 0.5003 - val_loss: 0.6934 - val_accuracy: 0.4933\n",
      "Epoch 93/100\n",
      "2000/2000 [==============================] - 4s 2ms/step - loss: 0.6930 - accuracy: 0.5022 - val_loss: 0.6933 - val_accuracy: 0.5064\n",
      "Epoch 94/100\n",
      "2000/2000 [==============================] - 4s 2ms/step - loss: 0.6931 - accuracy: 0.5014 - val_loss: 0.6933 - val_accuracy: 0.5070\n",
      "Epoch 95/100\n",
      "2000/2000 [==============================] - 4s 2ms/step - loss: 0.6930 - accuracy: 0.5019 - val_loss: 0.6933 - val_accuracy: 0.5057\n",
      "Epoch 96/100\n",
      "2000/2000 [==============================] - 4s 2ms/step - loss: 0.6930 - accuracy: 0.5011 - val_loss: 0.6934 - val_accuracy: 0.5064\n",
      "Epoch 97/100\n",
      "2000/2000 [==============================] - 4s 2ms/step - loss: 0.6930 - accuracy: 0.5033 - val_loss: 0.6934 - val_accuracy: 0.4937\n",
      "Epoch 98/100\n",
      "2000/2000 [==============================] - 4s 2ms/step - loss: 0.6931 - accuracy: 0.5005 - val_loss: 0.6935 - val_accuracy: 0.5057\n",
      "Epoch 99/100\n",
      "2000/2000 [==============================] - 3s 2ms/step - loss: 0.6931 - accuracy: 0.5002 - val_loss: 0.6933 - val_accuracy: 0.5068\n",
      "Epoch 100/100\n",
      "2000/2000 [==============================] - 4s 2ms/step - loss: 0.6930 - accuracy: 0.5007 - val_loss: 0.6932 - val_accuracy: 0.5073\n"
     ]
    },
    {
     "data": {
      "text/plain": [
       "<keras.src.callbacks.History at 0x1b286a9e790>"
      ]
     },
     "execution_count": 22,
     "metadata": {},
     "output_type": "execute_result"
    }
   ],
   "source": [
    "model.fit(X_train,Y_train,epochs=100,validation_split=0.2)"
   ]
  },
  {
   "cell_type": "code",
   "execution_count": 23,
   "id": "f19a3429",
   "metadata": {},
   "outputs": [
    {
     "name": "stdout",
     "output_type": "stream",
     "text": [
      "625/625 [==============================] - 1s 1ms/step\n"
     ]
    }
   ],
   "source": [
    "y_log=model.predict(X_test)"
   ]
  },
  {
   "cell_type": "code",
   "execution_count": 24,
   "id": "997a9f76",
   "metadata": {},
   "outputs": [
    {
     "data": {
      "text/plain": [
       "[array([[ 0.35061872,  0.76228213, -0.89962703],\n",
       "        [ 0.60925955,  0.31388825, -0.41927665],\n",
       "        [ 0.2509458 ,  0.00734715,  0.3505817 ],\n",
       "        [-0.5747812 , -0.442415  , -0.2687662 ],\n",
       "        [ 2.626967  , -2.7763064 , -1.7314724 ],\n",
       "        [-0.3087582 , -0.9480374 ,  0.14796221],\n",
       "        [-1.5286767 ,  1.4189954 ,  0.15117453],\n",
       "        [ 1.7564085 , -0.38503355, -2.1436796 ],\n",
       "        [-0.05529061, -1.1834878 , -1.4457937 ]], dtype=float32),\n",
       " array([ 0.04281929, -0.36947477, -0.30950457], dtype=float32)]"
      ]
     },
     "execution_count": 24,
     "metadata": {},
     "output_type": "execute_result"
    }
   ],
   "source": [
    "model.layers[0].get_weights()"
   ]
  },
  {
   "cell_type": "code",
   "execution_count": 25,
   "id": "bc3490ae",
   "metadata": {},
   "outputs": [],
   "source": [
    "import numpy as np"
   ]
  },
  {
   "cell_type": "code",
   "execution_count": 26,
   "id": "c173fc61",
   "metadata": {},
   "outputs": [],
   "source": [
    "y_pred=np.where(y_log>0.5,1,0)"
   ]
  },
  {
   "cell_type": "code",
   "execution_count": 27,
   "id": "41f128c6",
   "metadata": {},
   "outputs": [],
   "source": [
    "from sklearn.metrics import accuracy_score"
   ]
  },
  {
   "cell_type": "code",
   "execution_count": 28,
   "id": "38ee14fa",
   "metadata": {},
   "outputs": [
    {
     "data": {
      "text/plain": [
       "0.50085"
      ]
     },
     "execution_count": 28,
     "metadata": {},
     "output_type": "execute_result"
    }
   ],
   "source": [
    "accuracy_score(Y_test,y_pred)"
   ]
  },
  {
   "cell_type": "code",
   "execution_count": null,
   "id": "ddccadd3",
   "metadata": {},
   "outputs": [],
   "source": [
    "#Hence this model is 50% accurate"
   ]
  }
 ],
 "metadata": {
  "kernelspec": {
   "display_name": "Python 3 (ipykernel)",
   "language": "python",
   "name": "python3"
  },
  "language_info": {
   "codemirror_mode": {
    "name": "ipython",
    "version": 3
   },
   "file_extension": ".py",
   "mimetype": "text/x-python",
   "name": "python",
   "nbconvert_exporter": "python",
   "pygments_lexer": "ipython3",
   "version": "3.11.4"
  }
 },
 "nbformat": 4,
 "nbformat_minor": 5
}
